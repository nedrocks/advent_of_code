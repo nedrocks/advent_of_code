{
 "cells": [
  {
   "cell_type": "code",
   "execution_count": 2,
   "metadata": {},
   "outputs": [],
   "source": [
    "with open(\"input.txt\", \"r\") as f:\n",
    "    data = f.readlines()\n"
   ]
  },
  {
   "cell_type": "code",
   "execution_count": 4,
   "metadata": {},
   "outputs": [],
   "source": [
    "from collections import defaultdict\n",
    "\n",
    "vowels = set(['a', 'e', 'i', 'o', 'u'])\n",
    "bad_bigrams = set(['ab', 'cd', 'pq', 'xy'])\n",
    "def is_nice(s: str) -> bool:\n",
    "    found_double = False\n",
    "    vowel_count = 0\n",
    "    last_char = ''\n",
    "\n",
    "    for char in s:\n",
    "        if char in vowels:\n",
    "            vowel_count += 1\n",
    "        if last_char + char in bad_bigrams:\n",
    "            return False\n",
    "        if last_char == char:\n",
    "            found_double = True\n",
    "        last_char = char\n",
    "    \n",
    "    return vowel_count >= 3 and found_double"
   ]
  },
  {
   "cell_type": "code",
   "execution_count": 5,
   "metadata": {},
   "outputs": [
    {
     "name": "stdout",
     "output_type": "stream",
     "text": [
      "238\n"
     ]
    }
   ],
   "source": [
    "print(sum(is_nice(s) for s in data))"
   ]
  },
  {
   "cell_type": "markdown",
   "metadata": {},
   "source": [
    "# Part 2"
   ]
  },
  {
   "cell_type": "code",
   "execution_count": 73,
   "metadata": {},
   "outputs": [],
   "source": [
    "def is_nice_2(s: str) -> bool:\n",
    "    found_double = False\n",
    "    doubles = defaultdict(list[int])\n",
    "    found_split_match = False\n",
    "\n",
    "    for i in range(len(s.strip())):\n",
    "        if i > 0 and not found_double:\n",
    "            st = s[i-1] + s[i]\n",
    "            doubles[st].append((i-1))\n",
    "            if len(doubles[st]) > 1 and max(doubles[st]) - min(doubles[st]) > 1:\n",
    "                found_double = True\n",
    "        if not found_split_match and i > 1 and s[i] == s[i-2]:\n",
    "            found_split_match = True\n",
    "    return found_double and found_split_match"
   ]
  },
  {
   "cell_type": "code",
   "execution_count": 74,
   "metadata": {},
   "outputs": [
    {
     "name": "stdout",
     "output_type": "stream",
     "text": [
      "69\n"
     ]
    }
   ],
   "source": [
    "print(sum(is_nice_2(s) for s in data))"
   ]
  },
  {
   "cell_type": "markdown",
   "metadata": {},
   "source": [
    "# Tests"
   ]
  },
  {
   "cell_type": "code",
   "execution_count": 72,
   "metadata": {},
   "outputs": [
    {
     "name": "stdout",
     "output_type": "stream",
     "text": [
      "input: qjhvhtzxzqqjkmpb,found_double: True, found_split_match: True, doubles: defaultdict(list[int], {'qj': [0, 10], 'jh': [1], 'hv': [2], 'vh': [3], 'ht': [4], 'tz': [5], 'zx': [6], 'xz': [7], 'zq': [8], 'qq': [9]})\n",
      "input: xxyxx,found_double: True, found_split_match: True, doubles: defaultdict(list[int], {'xx': [0, 3], 'xy': [1], 'yx': [2]})\n",
      "input: fkgrqbyqpqcworqc,found_double: True, found_split_match: True, doubles: defaultdict(list[int], {'fk': [0], 'kg': [1], 'gr': [2], 'rq': [3, 13], 'qb': [4], 'by': [5], 'yq': [6], 'qp': [7], 'pq': [8], 'qc': [9], 'cw': [10], 'wo': [11], 'or': [12]})\n"
     ]
    }
   ],
   "source": [
    "inputs_2 = [\n",
    "    ('qjhvhtzxzqqjkmpb', True),\n",
    "    ('xxyxx', True),\n",
    "    ('uurcxstgmygtbstg', False),\n",
    "    ('ieodomkazucvgmuy', False),\n",
    "    ('fkgrqbyqpqcworqc', True)\n",
    "]\n",
    "\n",
    "success = True\n",
    "for s, expected in inputs_2:\n",
    "    if is_nice_2(s) != expected:\n",
    "        success = False\n",
    "        print(f'Failed for {s}')\n",
    "assert success"
   ]
  },
  {
   "cell_type": "code",
   "execution_count": null,
   "metadata": {},
   "outputs": [],
   "source": []
  }
 ],
 "metadata": {
  "kernelspec": {
   "display_name": ".venv",
   "language": "python",
   "name": "python3"
  },
  "language_info": {
   "codemirror_mode": {
    "name": "ipython",
    "version": 3
   },
   "file_extension": ".py",
   "mimetype": "text/x-python",
   "name": "python",
   "nbconvert_exporter": "python",
   "pygments_lexer": "ipython3",
   "version": "3.10.6"
  }
 },
 "nbformat": 4,
 "nbformat_minor": 2
}
