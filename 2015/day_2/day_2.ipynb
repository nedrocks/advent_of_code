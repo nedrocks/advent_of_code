{
 "cells": [
  {
   "cell_type": "code",
   "execution_count": 4,
   "metadata": {},
   "outputs": [
    {
     "name": "stdout",
     "output_type": "stream",
     "text": [
      "[[4, 21, 23], [19, 22, 29], [4, 11, 11], [5, 8, 10], [16, 18, 24], [11, 22, 25], [2, 13, 20], [14, 15, 24], [2, 14, 22], [3, 7, 30]]\n"
     ]
    }
   ],
   "source": [
    "with open(\"input.txt\", \"r\") as f:\n",
    "    data = f.readlines()\n",
    "\n",
    "dims = [sorted(list(map(int, line.strip().split(\"x\")))) for line in data]\n",
    "print(dims[:10])"
   ]
  },
  {
   "cell_type": "code",
   "execution_count": 5,
   "metadata": {},
   "outputs": [
    {
     "name": "stdout",
     "output_type": "stream",
     "text": [
      "1598415\n"
     ]
    }
   ],
   "source": [
    "def paper_needed(dims):\n",
    "    l, w, h = dims\n",
    "    return 3*l*w + 2*w*h + 2*h*l\n",
    "\n",
    "print(sum(paper_needed(dim) for dim in dims))\n"
   ]
  },
  {
   "cell_type": "markdown",
   "metadata": {},
   "source": [
    "# Part 2"
   ]
  },
  {
   "cell_type": "code",
   "execution_count": 6,
   "metadata": {},
   "outputs": [
    {
     "name": "stdout",
     "output_type": "stream",
     "text": [
      "3812909\n"
     ]
    }
   ],
   "source": [
    "def ribbon_needed(dims):\n",
    "    l, w, h = dims\n",
    "    return 2*l + 2*w + l*w*h\n",
    "\n",
    "print(sum(ribbon_needed(dim) for dim in dims))\n"
   ]
  },
  {
   "cell_type": "code",
   "execution_count": null,
   "metadata": {},
   "outputs": [],
   "source": []
  }
 ],
 "metadata": {
  "kernelspec": {
   "display_name": ".venv",
   "language": "python",
   "name": "python3"
  },
  "language_info": {
   "codemirror_mode": {
    "name": "ipython",
    "version": 3
   },
   "file_extension": ".py",
   "mimetype": "text/x-python",
   "name": "python",
   "nbconvert_exporter": "python",
   "pygments_lexer": "ipython3",
   "version": "3.10.6"
  }
 },
 "nbformat": 4,
 "nbformat_minor": 2
}
