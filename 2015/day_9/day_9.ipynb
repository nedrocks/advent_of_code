{
 "cells": [
  {
   "cell_type": "code",
   "execution_count": 1,
   "metadata": {},
   "outputs": [
    {
     "name": "stdout",
     "output_type": "stream",
     "text": [
      "['Faerun to Norrath = 129', 'Faerun to Tristram = 58', 'Faerun to AlphaCentauri = 13', 'Faerun to Arbre = 24', 'Faerun to Snowdin = 60', 'Faerun to Tambi = 71', 'Faerun to Straylight = 67', 'Norrath to Tristram = 142', 'Norrath to AlphaCentauri = 15', 'Norrath to Arbre = 135', 'Norrath to Snowdin = 75', 'Norrath to Tambi = 82', 'Norrath to Straylight = 54', 'Tristram to AlphaCentauri = 118', 'Tristram to Arbre = 122', 'Tristram to Snowdin = 103', 'Tristram to Tambi = 49', 'Tristram to Straylight = 97', 'AlphaCentauri to Arbre = 116', 'AlphaCentauri to Snowdin = 12', 'AlphaCentauri to Tambi = 18', 'AlphaCentauri to Straylight = 91', 'Arbre to Snowdin = 129', 'Arbre to Tambi = 53', 'Arbre to Straylight = 40', 'Snowdin to Tambi = 15', 'Snowdin to Straylight = 99', 'Tambi to Straylight = 70']\n"
     ]
    }
   ],
   "source": [
    "data = []\n",
    "with open('input.txt', 'r') as f:\n",
    "    for line in f:\n",
    "        data.append(line.strip())\n",
    "\n",
    "print(data)\n"
   ]
  },
  {
   "cell_type": "code",
   "execution_count": 7,
   "metadata": {},
   "outputs": [],
   "source": [
    "from dataclasses import dataclass\n",
    "\n",
    "\n",
    "@dataclass\n",
    "class City:\n",
    "    name: str\n",
    "    edges: list[(\"City\", int)]\n",
    "\n",
    "    def __repr__(self):\n",
    "        return f'City(name={self.name}, edges={[(e[0].name, e[1]) for e in self.edges]})'\n",
    "\n",
    "    def __lt__(self, other):\n",
    "        return len(self.edges) < len(other.edges)\n",
    "    \n",
    "    def __hash__(self) -> str:\n",
    "        return self.name.__hash__()\n",
    "\n"
   ]
  },
  {
   "cell_type": "code",
   "execution_count": 8,
   "metadata": {},
   "outputs": [],
   "source": [
    "def populate_cities(data: list[str]) -> dict[str, City]:\n",
    "    cities = {}\n",
    "    for line in data:\n",
    "        parts = line.split(' ')\n",
    "        lhs = parts[0]\n",
    "        rhs = parts[2]\n",
    "        lhs_city = cities.get(lhs, City(lhs, []))\n",
    "        rhs_city = cities.get(rhs, City(rhs, []))\n",
    "        distance = int(parts[4])\n",
    "        lhs_city.edges.append((rhs_city, distance))\n",
    "        rhs_city.edges.append((lhs_city, distance))\n",
    "        cities[lhs] = lhs_city\n",
    "        cities[rhs] = rhs_city\n",
    "    return cities"
   ]
  },
  {
   "cell_type": "code",
   "execution_count": 4,
   "metadata": {},
   "outputs": [
    {
     "data": {
      "text/plain": [
       "{'Faerun': City(name=Faerun, edges=[('Norrath', 129), ('Tristram', 58), ('AlphaCentauri', 13), ('Arbre', 24), ('Snowdin', 60), ('Tambi', 71), ('Straylight', 67)]),\n",
       " 'Norrath': City(name=Norrath, edges=[('Faerun', 129), ('Tristram', 142), ('AlphaCentauri', 15), ('Arbre', 135), ('Snowdin', 75), ('Tambi', 82), ('Straylight', 54)]),\n",
       " 'Tristram': City(name=Tristram, edges=[('Faerun', 58), ('Norrath', 142), ('AlphaCentauri', 118), ('Arbre', 122), ('Snowdin', 103), ('Tambi', 49), ('Straylight', 97)]),\n",
       " 'AlphaCentauri': City(name=AlphaCentauri, edges=[('Faerun', 13), ('Norrath', 15), ('Tristram', 118), ('Arbre', 116), ('Snowdin', 12), ('Tambi', 18), ('Straylight', 91)]),\n",
       " 'Arbre': City(name=Arbre, edges=[('Faerun', 24), ('Norrath', 135), ('Tristram', 122), ('AlphaCentauri', 116), ('Snowdin', 129), ('Tambi', 53), ('Straylight', 40)]),\n",
       " 'Snowdin': City(name=Snowdin, edges=[('Faerun', 60), ('Norrath', 75), ('Tristram', 103), ('AlphaCentauri', 12), ('Arbre', 129), ('Tambi', 15), ('Straylight', 99)]),\n",
       " 'Tambi': City(name=Tambi, edges=[('Faerun', 71), ('Norrath', 82), ('Tristram', 49), ('AlphaCentauri', 18), ('Arbre', 53), ('Snowdin', 15), ('Straylight', 70)]),\n",
       " 'Straylight': City(name=Straylight, edges=[('Faerun', 67), ('Norrath', 54), ('Tristram', 97), ('AlphaCentauri', 91), ('Arbre', 40), ('Snowdin', 99), ('Tambi', 70)])}"
      ]
     },
     "execution_count": 4,
     "metadata": {},
     "output_type": "execute_result"
    }
   ],
   "source": [
    "cities = populate_cities(data)"
   ]
  },
  {
   "cell_type": "code",
   "execution_count": 10,
   "metadata": {},
   "outputs": [
    {
     "name": "stdout",
     "output_type": "stream",
     "text": [
      "207\n"
     ]
    }
   ],
   "source": [
    "def find_shortest_path(visited_cities: set[str], current_city: str) -> int:\n",
    "    if len(visited_cities) == len(cities):\n",
    "        return 0\n",
    "    best_distance = float('inf')\n",
    "    for next_city, distance in current_city.edges:\n",
    "        if next_city in visited_cities:\n",
    "            continue\n",
    "        dist = distance + find_shortest_path(visited_cities | {next_city}, next_city)\n",
    "        best_distance = min(best_distance, dist)\n",
    "    return best_distance\n",
    "\n",
    "best = float('inf')\n",
    "cities = populate_cities(data)\n",
    "for starting_city in cities.values():\n",
    "    dist = find_shortest_path({starting_city}, starting_city)\n",
    "    best = min(best, dist)"
   ]
  },
  {
   "cell_type": "code",
   "execution_count": 13,
   "metadata": {},
   "outputs": [
    {
     "name": "stdout",
     "output_type": "stream",
     "text": [
      "804\n"
     ]
    }
   ],
   "source": [
    "def find_longest_path(visited_cities: set[str], current_city: str) -> int:\n",
    "    if len(visited_cities) == len(cities):\n",
    "        return 0\n",
    "    worst_distance = 0\n",
    "    for next_city, distance in current_city.edges:\n",
    "        if next_city in visited_cities:\n",
    "            continue\n",
    "        dist = distance + find_longest_path(visited_cities | {next_city}, next_city)\n",
    "        worst_distance = max(worst_distance, dist)\n",
    "    return worst_distance\n",
    "\n",
    "worst = 0\n",
    "cities = populate_cities(data)\n",
    "for starting_city in cities.values():\n",
    "    dist = find_longest_path({starting_city}, starting_city)\n",
    "    worst = max(worst, dist)\n",
    "print(worst)"
   ]
  },
  {
   "cell_type": "code",
   "execution_count": null,
   "metadata": {},
   "outputs": [],
   "source": []
  }
 ],
 "metadata": {
  "kernelspec": {
   "display_name": ".venv",
   "language": "python",
   "name": "python3"
  },
  "language_info": {
   "codemirror_mode": {
    "name": "ipython",
    "version": 3
   },
   "file_extension": ".py",
   "mimetype": "text/x-python",
   "name": "python",
   "nbconvert_exporter": "python",
   "pygments_lexer": "ipython3",
   "version": "3.10.6"
  }
 },
 "nbformat": 4,
 "nbformat_minor": 2
}
