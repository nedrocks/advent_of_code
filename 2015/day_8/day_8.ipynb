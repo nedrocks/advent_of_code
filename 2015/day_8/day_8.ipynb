{
 "cells": [
  {
   "cell_type": "code",
   "execution_count": 2,
   "metadata": {},
   "outputs": [],
   "source": [
    "data = []\n",
    "with open('input.txt', 'r') as f:\n",
    "    for line in f:\n",
    "        data.append(line.strip())\n"
   ]
  },
  {
   "cell_type": "code",
   "execution_count": 8,
   "metadata": {},
   "outputs": [],
   "source": [
    "def get_str_length(s: str) -> int:\n",
    "    i = 1\n",
    "    count = 0\n",
    "    while i < len(s) - 1:\n",
    "        if s[i] == '\\\\':\n",
    "            if s[i+1] == 'x':\n",
    "                count += 1\n",
    "                i += 4\n",
    "            elif s[i+1] == '\"' or s[i+1] == '\\\\':\n",
    "                count += 1\n",
    "                i += 2\n",
    "            else:\n",
    "                raise ValueError(f\"Unknown escape character: {s[i+1]}\")\n",
    "        else:\n",
    "            count += 1\n",
    "            i += 1\n",
    "    return count\n"
   ]
  },
  {
   "cell_type": "code",
   "execution_count": 9,
   "metadata": {},
   "outputs": [
    {
     "name": "stdout",
     "output_type": "stream",
     "text": [
      "1342\n"
     ]
    }
   ],
   "source": [
    "print(sum(len(s) - get_str_length(s) for s in data))"
   ]
  },
  {
   "cell_type": "code",
   "execution_count": 21,
   "metadata": {},
   "outputs": [],
   "source": [
    "def count_encoded_str(s: str) -> str:\n",
    "    count = 2\n",
    "    for char in s:\n",
    "        if char == '\"':\n",
    "            count += 2\n",
    "        elif char == '\\\\':\n",
    "            count += 2\n",
    "        else:\n",
    "            count += 1\n",
    "    return count\n",
    "\n"
   ]
  },
  {
   "cell_type": "code",
   "execution_count": 24,
   "metadata": {},
   "outputs": [
    {
     "name": "stdout",
     "output_type": "stream",
     "text": [
      "2074\n"
     ]
    }
   ],
   "source": [
    "print(sum(count_encoded_str(s) - len(s) for s in data))"
   ]
  },
  {
   "cell_type": "markdown",
   "metadata": {},
   "source": [
    "# Test"
   ]
  },
  {
   "cell_type": "code",
   "execution_count": 7,
   "metadata": {},
   "outputs": [],
   "source": [
    "test_cases = [\n",
    "    ('\"\"', 2, 0),\n",
    "    ('\"abc\"', 5, 3),\n",
    "    ('\"aaa\\\\\"aaa\"', 10, 7),\n",
    "    ('\"\\\\x27\"', 6, 1),\n",
    "]\n",
    "for s, expected_length, expected_count in test_cases:\n",
    "    if get_str_length(s) != expected_count:\n",
    "        print(f'Failed to get str length for {s}. Got {get_str_length(s)}, expected {expected_length}')\n",
    "    if len(s) != expected_length:\n",
    "        print(f'Failed to get char count for {s}. Got {len(s)}, expected {expected_count}')\n"
   ]
  },
  {
   "cell_type": "code",
   "execution_count": 20,
   "metadata": {},
   "outputs": [
    {
     "name": "stdout",
     "output_type": "stream",
     "text": [
      "\"\n",
      "\"\n",
      "\"\n",
      "a\n",
      "b\n",
      "c\n",
      "\"\n",
      "\"\n",
      "a\n",
      "a\n",
      "a\n",
      "\\\n",
      "\"\n",
      "a\n",
      "a\n",
      "a\n",
      "\"\n",
      "\"\n",
      "\\\n",
      "x\n",
      "2\n",
      "7\n",
      "\"\n"
     ]
    }
   ],
   "source": [
    "test_encoding_cases = [\n",
    "    (\"\\\"\\\"\", 6),\n",
    "    (\"\\\"abc\\\"\", 9),\n",
    "    ('\\\"aaa\\\\\\\"aaa\\\"', 16),\n",
    "    ('\\\"\\\\x27\\\"', 11),\n",
    "]\n",
    "\n",
    "for s, expected_length in test_encoding_cases:\n",
    "    if count_encoded_str(s) != expected_length:\n",
    "        print(f'Failed to encode {s}. Got {count_encoded_str(s)}, expected {expected_length}')\n"
   ]
  },
  {
   "cell_type": "code",
   "execution_count": null,
   "metadata": {},
   "outputs": [],
   "source": []
  }
 ],
 "metadata": {
  "kernelspec": {
   "display_name": ".venv",
   "language": "python",
   "name": "python3"
  },
  "language_info": {
   "codemirror_mode": {
    "name": "ipython",
    "version": 3
   },
   "file_extension": ".py",
   "mimetype": "text/x-python",
   "name": "python",
   "nbconvert_exporter": "python",
   "pygments_lexer": "ipython3",
   "version": "3.10.6"
  }
 },
 "nbformat": 4,
 "nbformat_minor": 2
}
