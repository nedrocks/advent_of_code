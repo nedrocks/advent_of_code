{
 "cells": [
  {
   "cell_type": "code",
   "execution_count": 8,
   "metadata": {},
   "outputs": [],
   "source": [
    "arr = '3113322113'"
   ]
  },
  {
   "cell_type": "code",
   "execution_count": 18,
   "metadata": {},
   "outputs": [
    {
     "name": "stdout",
     "output_type": "stream",
     "text": [
      "4666278\n"
     ]
    }
   ],
   "source": [
    "def look_and_say(input: list[str]) -> str:\n",
    "    output = []\n",
    "    i = 0\n",
    "    while i < len(input):\n",
    "        count = 1\n",
    "        while i+1 < len(input) and input[i] == input[i+1]:\n",
    "            count += 1\n",
    "            i += 1\n",
    "        output.extend(list(str(count)))\n",
    "        output.append(input[i])\n",
    "        i += 1\n",
    "    return output\n",
    "\n",
    "input = [x for x in arr]\n",
    "for i in range(50):\n",
    "    input = look_and_say(input)\n",
    "print(len(input))"
   ]
  },
  {
   "cell_type": "code",
   "execution_count": null,
   "metadata": {},
   "outputs": [],
   "source": []
  }
 ],
 "metadata": {
  "kernelspec": {
   "display_name": ".venv",
   "language": "python",
   "name": "python3"
  },
  "language_info": {
   "codemirror_mode": {
    "name": "ipython",
    "version": 3
   },
   "file_extension": ".py",
   "mimetype": "text/x-python",
   "name": "python",
   "nbconvert_exporter": "python",
   "pygments_lexer": "ipython3",
   "version": "3.10.6"
  }
 },
 "nbformat": 4,
 "nbformat_minor": 2
}
