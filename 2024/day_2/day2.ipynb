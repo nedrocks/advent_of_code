{
 "cells": [
  {
   "cell_type": "markdown",
   "metadata": {},
   "source": [
    "# Part 1 - find safe readings\n",
    "\n",
    "NOTE: The input have varying number of readings per row."
   ]
  },
  {
   "cell_type": "code",
   "execution_count": 17,
   "metadata": {},
   "outputs": [
    {
     "name": "stdout",
     "output_type": "stream",
     "text": [
      "    0   1   2   3   4     5     6     7\n",
      "0   5   6   7  10  13  16.0  13.0  -1.0\n",
      "1  19  21  24  27  28  28.0  -1.0  -1.0\n",
      "2  16  18  20  21  23  25.0  29.0  -1.0\n",
      "3  44  46  48  49  52  55.0  56.0  62.0\n",
      "4  51  52  53  50  52  -1.0  -1.0  -1.0\n"
     ]
    }
   ],
   "source": [
    "import pandas as pd\n",
    "\n",
    "df = pd.read_csv('input.txt', header=None, sep='\\s+', names=range(8))\n",
    "df.fillna(-1, inplace=True)\n",
    "print(df.head())"
   ]
  },
  {
   "cell_type": "code",
   "execution_count": 90,
   "metadata": {},
   "outputs": [],
   "source": [
    "def is_safe_reading(row):\n",
    "    global failures_from_incr_decr\n",
    "    global failures_from_delta\n",
    "    last_reading = -1\n",
    "    increasing = None\n",
    "    for i in range(len(row)):\n",
    "        if row[i] == -1:\n",
    "            return True\n",
    "        if last_reading == -1:\n",
    "            last_reading = row[i]\n",
    "            continue\n",
    "        elif increasing is None:\n",
    "            if row[i] > last_reading:\n",
    "                increasing = True\n",
    "            else:\n",
    "                increasing = False\n",
    "        if increasing and row[i] < last_reading:\n",
    "            failures_from_incr_decr += 1\n",
    "            return False\n",
    "        elif not increasing and row[i] > last_reading:\n",
    "            failures_from_incr_decr += 1\n",
    "            return False\n",
    "        \n",
    "        delta = abs(row[i] - last_reading)\n",
    "        last_reading = row[i]\n",
    "        \n",
    "        if delta > 3 or delta < 1:\n",
    "            failures_from_delta += 1\n",
    "            return False\n",
    "        \n",
    "    return True\n",
    "\n"
   ]
  },
  {
   "cell_type": "code",
   "execution_count": 70,
   "metadata": {},
   "outputs": [],
   "source": [
    "if 'filter_result' in df.columns:\n",
    "    df.drop('filter_result', axis=1, inplace=True)\n",
    "df['filter_result'] = df.apply(is_safe_reading, axis=1)"
   ]
  },
  {
   "cell_type": "code",
   "execution_count": 33,
   "metadata": {},
   "outputs": [
    {
     "data": {
      "text/html": [
       "<div>\n",
       "<style scoped>\n",
       "    .dataframe tbody tr th:only-of-type {\n",
       "        vertical-align: middle;\n",
       "    }\n",
       "\n",
       "    .dataframe tbody tr th {\n",
       "        vertical-align: top;\n",
       "    }\n",
       "\n",
       "    .dataframe thead th {\n",
       "        text-align: right;\n",
       "    }\n",
       "</style>\n",
       "<table border=\"1\" class=\"dataframe\">\n",
       "  <thead>\n",
       "    <tr style=\"text-align: right;\">\n",
       "      <th></th>\n",
       "      <th>0</th>\n",
       "      <th>1</th>\n",
       "      <th>2</th>\n",
       "      <th>3</th>\n",
       "      <th>4</th>\n",
       "      <th>5</th>\n",
       "      <th>6</th>\n",
       "      <th>7</th>\n",
       "      <th>filter_result</th>\n",
       "    </tr>\n",
       "  </thead>\n",
       "  <tbody>\n",
       "    <tr>\n",
       "      <th>0</th>\n",
       "      <td>5</td>\n",
       "      <td>6</td>\n",
       "      <td>7</td>\n",
       "      <td>10</td>\n",
       "      <td>13</td>\n",
       "      <td>16.0</td>\n",
       "      <td>13.0</td>\n",
       "      <td>-1.0</td>\n",
       "      <td>False</td>\n",
       "    </tr>\n",
       "    <tr>\n",
       "      <th>1</th>\n",
       "      <td>19</td>\n",
       "      <td>21</td>\n",
       "      <td>24</td>\n",
       "      <td>27</td>\n",
       "      <td>28</td>\n",
       "      <td>28.0</td>\n",
       "      <td>-1.0</td>\n",
       "      <td>-1.0</td>\n",
       "      <td>False</td>\n",
       "    </tr>\n",
       "    <tr>\n",
       "      <th>2</th>\n",
       "      <td>16</td>\n",
       "      <td>18</td>\n",
       "      <td>20</td>\n",
       "      <td>21</td>\n",
       "      <td>23</td>\n",
       "      <td>25.0</td>\n",
       "      <td>29.0</td>\n",
       "      <td>-1.0</td>\n",
       "      <td>False</td>\n",
       "    </tr>\n",
       "    <tr>\n",
       "      <th>3</th>\n",
       "      <td>44</td>\n",
       "      <td>46</td>\n",
       "      <td>48</td>\n",
       "      <td>49</td>\n",
       "      <td>52</td>\n",
       "      <td>55.0</td>\n",
       "      <td>56.0</td>\n",
       "      <td>62.0</td>\n",
       "      <td>False</td>\n",
       "    </tr>\n",
       "    <tr>\n",
       "      <th>4</th>\n",
       "      <td>51</td>\n",
       "      <td>52</td>\n",
       "      <td>53</td>\n",
       "      <td>50</td>\n",
       "      <td>52</td>\n",
       "      <td>-1.0</td>\n",
       "      <td>-1.0</td>\n",
       "      <td>-1.0</td>\n",
       "      <td>False</td>\n",
       "    </tr>\n",
       "  </tbody>\n",
       "</table>\n",
       "</div>"
      ],
      "text/plain": [
       "    0   1   2   3   4     5     6     7  filter_result\n",
       "0   5   6   7  10  13  16.0  13.0  -1.0          False\n",
       "1  19  21  24  27  28  28.0  -1.0  -1.0          False\n",
       "2  16  18  20  21  23  25.0  29.0  -1.0          False\n",
       "3  44  46  48  49  52  55.0  56.0  62.0          False\n",
       "4  51  52  53  50  52  -1.0  -1.0  -1.0          False"
      ]
     },
     "execution_count": 33,
     "metadata": {},
     "output_type": "execute_result"
    }
   ],
   "source": [
    "df.head()"
   ]
  },
  {
   "cell_type": "code",
   "execution_count": 71,
   "metadata": {},
   "outputs": [
    {
     "data": {
      "text/plain": [
       "299"
      ]
     },
     "execution_count": 71,
     "metadata": {},
     "output_type": "execute_result"
    }
   ],
   "source": [
    "len(df[df['filter_result'] == True])"
   ]
  },
  {
   "cell_type": "markdown",
   "metadata": {},
   "source": [
    "The above is showing that there are 0 safe readings. Test it again using raw python"
   ]
  },
  {
   "cell_type": "code",
   "execution_count": 51,
   "metadata": {},
   "outputs": [
    {
     "data": {
      "text/plain": [
       "[[5, 6, 7, 10, 13, 16, 13],\n",
       " [19, 21, 24, 27, 28, 28],\n",
       " [16, 18, 20, 21, 23, 25, 29],\n",
       " [44, 46, 48, 49, 52, 55, 56, 62],\n",
       " [51, 52, 53, 50, 52],\n",
       " [10, 11, 12, 14, 11, 10],\n",
       " [80, 83, 85, 86, 88, 85, 85],\n",
       " [89, 90, 88, 90, 94],\n",
       " [85, 86, 83, 85, 92],\n",
       " [31, 32, 32, 33, 36]]"
      ]
     },
     "execution_count": 51,
     "metadata": {},
     "output_type": "execute_result"
    }
   ],
   "source": [
    "readings = []\n",
    "with open('input.txt', 'r') as f:\n",
    "    for line in f:\n",
    "        readings.append([int(x) for x in line.strip().split(' ')])\n",
    "\n",
    "readings[:10]\n",
    "\n"
   ]
  },
  {
   "cell_type": "code",
   "execution_count": 96,
   "metadata": {},
   "outputs": [],
   "source": [
    "def is_safe_reading_remove_one(row):\n",
    "    is_safe = is_safe_reading(row)\n",
    "    if not is_safe:\n",
    "        for i in range(len(row)):\n",
    "            new_row = row[:i] + row[i+1:]\n",
    "            if is_safe_reading(new_row):\n",
    "                return True\n",
    "    return is_safe "
   ]
  },
  {
   "cell_type": "markdown",
   "metadata": {},
   "source": [
    "# Answer below for part 2"
   ]
  },
  {
   "cell_type": "code",
   "execution_count": 98,
   "metadata": {},
   "outputs": [
    {
     "data": {
      "text/plain": [
       "364"
      ]
     },
     "execution_count": 98,
     "metadata": {},
     "output_type": "execute_result"
    }
   ],
   "source": [
    "failures_from_delta = 0\n",
    "failures_from_incr_decr = 0\n",
    "\n",
    "len([is_safe_reading(reading) for reading in readings if is_safe_reading_remove_one(reading)])\n"
   ]
  },
  {
   "cell_type": "markdown",
   "metadata": {},
   "source": [
    "# Tests"
   ]
  },
  {
   "cell_type": "code",
   "execution_count": 97,
   "metadata": {},
   "outputs": [],
   "source": [
    "# Input in form of row, will should work without modification; works with dampener.\n",
    "from dataclasses import dataclass\n",
    "\n",
    "\n",
    "@dataclass\n",
    "class TestInput:\n",
    "    row: list[int]\n",
    "    expected_result_unmodified: bool\n",
    "    expected_result_with_dampener: bool\n",
    "\n",
    "    def __init__(self, row, expected_result_unmodified, expected_result_with_dampener):\n",
    "        self.row = row\n",
    "        self.expected_result_unmodified = expected_result_unmodified\n",
    "        self.expected_result_with_dampener = expected_result_with_dampener\n",
    "\n",
    "test_rows = [\n",
    "    TestInput([7, 6, 4, 2, 1], True, True),\n",
    "    TestInput([1, 2, 7, 8, 9], False, False),\n",
    "    TestInput([9, 7, 6, 2, 1], False, False),\n",
    "    TestInput([1, 3, 2, 4, 5], False, True),\n",
    "    TestInput([8, 6, 4, 4, 1], False, True),\n",
    "    TestInput([1, 3, 6, 7, 9], True, True),\n",
    "]\n",
    "\n",
    "success = True\n",
    "for test_row in test_rows:\n",
    "    if is_safe_reading(test_row.row) != test_row.expected_result_unmodified:\n",
    "        success = False\n",
    "        print(f'Failed unmodified for row: {test_row}')\n",
    "    if is_safe_reading_remove_one(test_row.row) != test_row.expected_result_with_dampener:\n",
    "        success = False\n",
    "        print(f'Failed dampenened for row: {test_row}')\n",
    "\n",
    "assert success\n",
    "\n"
   ]
  },
  {
   "cell_type": "code",
   "execution_count": 92,
   "metadata": {},
   "outputs": [
    {
     "name": "stdout",
     "output_type": "stream",
     "text": [
      "False\n",
      "False\n"
     ]
    }
   ],
   "source": [
    "is_safe_reading_remove_one([9, 7, 6, 2, 1])\n",
    "is_safe_reading([9, 7, 6, 1])"
   ]
  },
  {
   "cell_type": "code",
   "execution_count": null,
   "metadata": {},
   "outputs": [],
   "source": []
  }
 ],
 "metadata": {
  "kernelspec": {
   "display_name": ".venv",
   "language": "python",
   "name": "python3"
  },
  "language_info": {
   "codemirror_mode": {
    "name": "ipython",
    "version": 3
   },
   "file_extension": ".py",
   "mimetype": "text/x-python",
   "name": "python",
   "nbconvert_exporter": "python",
   "pygments_lexer": "ipython3",
   "version": "3.10.6"
  }
 },
 "nbformat": 4,
 "nbformat_minor": 2
}
