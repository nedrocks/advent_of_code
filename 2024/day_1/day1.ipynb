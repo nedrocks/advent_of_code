{
 "cells": [
  {
   "cell_type": "markdown",
   "metadata": {},
   "source": [
    "# Part 1\n",
    "Find error between the two scores"
   ]
  },
  {
   "cell_type": "code",
   "execution_count": 4,
   "metadata": {},
   "outputs": [],
   "source": [
    "left_list = []\n",
    "right_list = []\n",
    "\n",
    "with open(\"input.txt\", \"r\") as file:\n",
    "    for line in file:\n",
    "        if line.strip():\n",
    "            left_side, right_side = line.strip().split('   ')\n",
    "            left_list.append(int(left_side))\n",
    "            right_list.append(int(right_side))\n"
   ]
  },
  {
   "cell_type": "code",
   "execution_count": 5,
   "metadata": {},
   "outputs": [],
   "source": [
    "left_list_sorted = sorted(left_list)\n",
    "right_list_sorted = sorted(right_list)\n",
    "\n",
    "assert(len(left_list_sorted) == len(right_list_sorted))"
   ]
  },
  {
   "cell_type": "code",
   "execution_count": 6,
   "metadata": {},
   "outputs": [
    {
     "name": "stdout",
     "output_type": "stream",
     "text": [
      "1889772\n"
     ]
    }
   ],
   "source": [
    "error = 0\n",
    "for i in range(len(left_list_sorted)):\n",
    "    error += abs(left_list_sorted[i] - right_list_sorted[i])\n",
    "\n",
    "print(error)\n"
   ]
  },
  {
   "cell_type": "markdown",
   "metadata": {},
   "source": [
    "# Part 2\n",
    "Generate similarity score by finding the frequency of numbers in the right list and then multiply each id in left by its frequency in right."
   ]
  },
  {
   "cell_type": "code",
   "execution_count": 8,
   "metadata": {},
   "outputs": [],
   "source": [
    "from collections import defaultdict as dd\n",
    "\n",
    "rhs_fq_map = dd(int)\n",
    "lhs_fq_map = dd(int)\n",
    "\n",
    "for rhs in right_list_sorted:\n",
    "    rhs_fq_map[rhs] += 1\n"
   ]
  },
  {
   "cell_type": "code",
   "execution_count": 11,
   "metadata": {},
   "outputs": [
    {
     "name": "stdout",
     "output_type": "stream",
     "text": [
      "23228917\n"
     ]
    }
   ],
   "source": [
    "similarity_score = 0\n",
    "for lhs in left_list_sorted:\n",
    "    similarity_score += lhs * rhs_fq_map[lhs]\n",
    "\n",
    "print(similarity_score)\n"
   ]
  }
 ],
 "metadata": {
  "kernelspec": {
   "display_name": ".venv",
   "language": "python",
   "name": "python3"
  },
  "language_info": {
   "codemirror_mode": {
    "name": "ipython",
    "version": 3
   },
   "file_extension": ".py",
   "mimetype": "text/x-python",
   "name": "python",
   "nbconvert_exporter": "python",
   "pygments_lexer": "ipython3",
   "version": "3.10.6"
  }
 },
 "nbformat": 4,
 "nbformat_minor": 2
}
